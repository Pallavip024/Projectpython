{
  "nbformat": 4,
  "nbformat_minor": 0,
  "metadata": {
    "colab": {
      "name": "project_python2021.ipynb",
      "provenance": [],
      "collapsed_sections": []
    },
    "kernelspec": {
      "name": "python3",
      "display_name": "Python 3"
    },
    "language_info": {
      "name": "python"
    }
  },
  "cells": [
    {
      "cell_type": "code",
      "metadata": {
        "colab": {
          "base_uri": "https://localhost:8080/"
        },
        "id": "lt3wizKREglv",
        "outputId": "04f0d3a2-204c-4c3a-c299-6b9426680c9e"
      },
      "source": [
        "import hashlib\n",
        "\n",
        "hash_obj = hashlib.md5 (b'Hello Python')\n",
        "print(hash_obj.hexdigest())"
      ],
      "execution_count": 6,
      "outputs": [
        {
          "output_type": "stream",
          "text": [
            "a709c173220d6185d12248faa9f40ac8\n"
          ],
          "name": "stdout"
        }
      ]
    },
    {
      "cell_type": "code",
      "metadata": {
        "colab": {
          "base_uri": "https://localhost:8080/"
        },
        "id": "Bh1M42h1GBOM",
        "outputId": "86142b1b-5094-4ba5-e074-9b5205dd4ab8"
      },
      "source": [
        "import hashlib\n",
        "\n",
        "obj_hash = hashlib.md5(b'Good morning')\n",
        "print(obj_hash.hexdigest())"
      ],
      "execution_count": 7,
      "outputs": [
        {
          "output_type": "stream",
          "text": [
            "4e44298897ed12cdc10e5302fa781688\n"
          ],
          "name": "stdout"
        }
      ]
    },
    {
      "cell_type": "code",
      "metadata": {
        "colab": {
          "base_uri": "https://localhost:8080/"
        },
        "id": "WzDhfGT4Gefv",
        "outputId": "5a962997-852b-455e-dbfe-cffda6002fc2"
      },
      "source": [
        "import hashlib\n",
        "\n",
        "project_pyt = hashlib.md5(b'Good afternoon user')\n",
        "print(project_pyt.hexdigest())\n"
      ],
      "execution_count": 8,
      "outputs": [
        {
          "output_type": "stream",
          "text": [
            "674233925eb37f2bfc7486dd20282398\n"
          ],
          "name": "stdout"
        }
      ]
    }
  ]
}